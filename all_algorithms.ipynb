{
 "cells": [
  {
   "cell_type": "code",
   "execution_count": 1,
   "metadata": {},
   "outputs": [],
   "source": [
    "import pandas as pd\n",
    "import numpy as np\n",
    "from matplotlib import pyplot as plt\n",
    "from sklearn.preprocessing  import LabelEncoder\n",
    "from sklearn.model_selection import  train_test_split\n",
    "from sklearn.metrics import confusion_matrix\n",
    "from sklearn.metrics import accuracy_score\n",
    "from sklearn.model_selection import KFold\n",
    "\n"
   ]
  },
  {
   "cell_type": "code",
   "execution_count": 2,
   "metadata": {},
   "outputs": [],
   "source": [
    "from sklearn.discriminant_analysis import LinearDiscriminantAnalysis as lda\n",
    "from sklearn.linear_model import Perceptron\n",
    "from sklearn.naive_bayes import GaussianNB\n",
    "from sklearn.linear_model import LogisticRegression\n",
    "from sklearn.neural_network import MLPClassifier\n",
    "from sklearn.svm import LinearSVC\n",
    "from sklearn.pipeline import make_pipeline \n",
    "from sklearn.preprocessing import StandardScaler\n"
   ]
  },
  {
   "cell_type": "code",
   "execution_count": 3,
   "metadata": {},
   "outputs": [],
   "source": [
    "def Fisher_Linear_Classification_Model(train_x, train_y, test_x, test_y):\n",
    "    sklearn_lda = lda(n_components=1)\n",
    "    sklearn_lda.fit_transform(train_x,train_y)\n",
    "    return sklearn_lda.score(train_x, train_y), sklearn_lda.score(test_x, test_y)"
   ]
  },
  {
   "cell_type": "code",
   "execution_count": 4,
   "metadata": {},
   "outputs": [],
   "source": [
    "def Perceptron_Model(train_x, train_y, test_x, test_y):\n",
    "    sklearn_perceptron = Perceptron()\n",
    "    sklearn_perceptron.fit(train_x,train_y)\n",
    "    return sklearn_perceptron.score(train_x, train_y), sklearn_perceptron.score(test_x, test_y)"
   ]
  },
  {
   "cell_type": "code",
   "execution_count": 5,
   "metadata": {},
   "outputs": [],
   "source": [
    "def Naive_Bayes_Model(train_x, train_y, test_x, test_y):\n",
    "    skllearn_naive_model = GaussianNB()\n",
    "    skllearn_naive_model.fit(train_x,train_y)\n",
    "    return skllearn_naive_model.score(train_x, train_y), skllearn_naive_model.score(test_x, test_y)"
   ]
  },
  {
   "cell_type": "code",
   "execution_count": 6,
   "metadata": {},
   "outputs": [],
   "source": [
    "def Logistic_Regression_Model(train_x, train_y, test_x, test_y):\n",
    "    sklearn_logistic_regression = LogisticRegression(random_state=0)\n",
    "    sklearn_logistic_regression.fit(train_x,train_y)\n",
    "    return sklearn_logistic_regression.score(train_x, train_y), sklearn_logistic_regression.score(test_x, test_y)"
   ]
  },
  {
   "cell_type": "code",
   "execution_count": 7,
   "metadata": {},
   "outputs": [],
   "source": [
    "def Artificial_Neural_Networks_Model(train_x, train_y, test_x, test_y):\n",
    "    sklearn_ANN = MLPClassifier(solver='lbfgs', alpha=1e-5, hidden_layer_sizes=(15,), random_state=1)\n",
    "    sklearn_ANN.fit(train_x,train_y)\n",
    "    return sklearn_ANN.score(train_x, train_y),sklearn_ANN.score(test_x, test_y)"
   ]
  },
  {
   "cell_type": "code",
   "execution_count": 8,
   "metadata": {},
   "outputs": [],
   "source": [
    "def Support_Vector_Machine_Model(train_x, train_y, test_x, test_y):\n",
    "    sklearn_SVM = make_pipeline(StandardScaler(), LinearSVC(random_state=0, tol=1e-5))\n",
    "    sklearn_SVM.fit(train_x,train_y)\n",
    "    return sklearn_SVM.score(train_x, train_y), sklearn_SVM.score(test_x, test_y)"
   ]
  },
  {
   "cell_type": "code",
   "execution_count": 13,
   "metadata": {},
   "outputs": [
    {
     "name": "stderr",
     "output_type": "stream",
     "text": [
      "/home/trinadh/.local/lib/python3.8/site-packages/sklearn/neural_network/_multilayer_perceptron.py:471: ConvergenceWarning: lbfgs failed to converge (status=1):\n",
      "STOP: TOTAL NO. of ITERATIONS REACHED LIMIT.\n",
      "\n",
      "Increase the number of iterations (max_iter) or scale the data as shown in:\n",
      "    https://scikit-learn.org/stable/modules/preprocessing.html\n",
      "  self.n_iter_ = _check_optimize_result(\"lbfgs\", opt_res, self.max_iter)\n"
     ]
    },
    {
     "name": "stdout",
     "output_type": "stream",
     "text": [
      "(0.9881952909475845, 0.985373364126251)\n",
      "(0.9869763264258677, 0.9876828329484219)\n"
     ]
    },
    {
     "name": "stderr",
     "output_type": "stream",
     "text": [
      "/home/trinadh/.local/lib/python3.8/site-packages/sklearn/neural_network/_multilayer_perceptron.py:471: ConvergenceWarning: lbfgs failed to converge (status=1):\n",
      "STOP: TOTAL NO. of ITERATIONS REACHED LIMIT.\n",
      "\n",
      "Increase the number of iterations (max_iter) or scale the data as shown in:\n",
      "    https://scikit-learn.org/stable/modules/preprocessing.html\n",
      "  self.n_iter_ = _check_optimize_result(\"lbfgs\", opt_res, self.max_iter)\n"
     ]
    },
    {
     "name": "stdout",
     "output_type": "stream",
     "text": [
      "(0.9881311349201257, 0.9861431870669746)\n",
      "(0.9881311349201257, 0.9884526558891455)\n",
      "(0.9872329505357028, 0.9865280985373364)\n"
     ]
    },
    {
     "name": "stderr",
     "output_type": "stream",
     "text": [
      "/home/trinadh/.local/lib/python3.8/site-packages/sklearn/neural_network/_multilayer_perceptron.py:471: ConvergenceWarning: lbfgs failed to converge (status=1):\n",
      "STOP: TOTAL NO. of ITERATIONS REACHED LIMIT.\n",
      "\n",
      "Increase the number of iterations (max_iter) or scale the data as shown in:\n",
      "    https://scikit-learn.org/stable/modules/preprocessing.html\n",
      "  self.n_iter_ = _check_optimize_result(\"lbfgs\", opt_res, self.max_iter)\n"
     ]
    },
    {
     "name": "stdout",
     "output_type": "stream",
     "text": [
      "(0.9875537306729967, 0.9896073903002309)\n",
      "(0.9867847061842443, 0.9884482094724683)\n"
     ]
    }
   ],
   "source": [
    "dataset = pd.read_csv('dataset_comb.csv')\n",
    "kf = KFold(n_splits=7, shuffle= True)\n",
    "dataset = dataset.drop(['id'], axis = 1)\n",
    "data_test = []\n",
    "data_train = []\n",
    "for i in range(6):\n",
    "    data_test.append([])\n",
    "    data_train.append([])\n",
    "for train_index, test_index in kf.split(dataset):\n",
    "    train = dataset.drop(test_index)\n",
    "    test = dataset.drop(train_index)\n",
    "    train_x = train.drop(['Class'], axis=1)\n",
    "    train_y = train['Class']\n",
    "    test_x = test.drop(['Class'], axis=1)\n",
    "    test_y = test['Class']\n",
    "    print(Artificial_Neural_Networks_Model(train_x, train_y, test_x, test_y))\n",
    "    \n",
    "    options = [Fisher_Linear_Classification_Model, Perceptron_Model, Naive_Bayes_Model, Logistic_Regression_Model, Artificial_Neural_Networks_Model, Support_Vector_Machine_Model]\n",
    "#     for index, i in enumerate(options):\n",
    "#         # print(i(train_x, train_y, test_x, test_y))\n",
    "#         train, test = i(train_x, train_y, test_x, test_y)\n",
    "#         data_test[index].append(test)\n",
    "#         data_train[index].append(train)"
   ]
  },
  {
   "cell_type": "code",
   "execution_count": 10,
   "metadata": {},
   "outputs": [
    {
     "name": "stdout",
     "output_type": "stream",
     "text": [
      "Training Data Accuracy\n",
      "Fisher    0.9867656521098477\n",
      "Perceptron    0.9400511700234141\n",
      "NB    0.976959035601534\n",
      "Log Regr    0.9891119067549773\n",
      "ANN    0.9876638300266922\n",
      "SVM    0.9898634458511145\n",
      "\n",
      "\n",
      "Testing Data Accuracy\n",
      "Fisher    0.9866924677405059\n",
      "Perceptron    0.940116845901723\n",
      "NB    0.9769042742810663\n",
      "Log Regr    0.9891120171355582\n",
      "ANN    0.9874623542014678\n",
      "SVM    0.9896619330114719\n",
      "\n",
      "\n"
     ]
    }
   ],
   "source": [
    "labels = ['Fisher','Perceptron','NB','Log Regr','ANN','SVM']\n",
    "print(\"Training Data Accuracy\")\n",
    "for i in range(len(labels)):\n",
    "    print(labels[i],\"  \", sum(data_train[i])/len(data_train[i]))\n",
    "print(\"\\n\")\n",
    "print(\"Testing Data Accuracy\")\n",
    "for i in range(len(labels)):\n",
    "    print(labels[i],\"  \", sum(data_test[i])/len(data_test[i]))\n",
    "print(\"\\n\")\n"
   ]
  },
  {
   "cell_type": "markdown",
   "metadata": {},
   "source": [
    "Training Data Accuracy\n",
    "Fisher    0.9867931463742637\n",
    "Perceptron    0.8259481635384764\n",
    "NB    0.9769865304539119\n",
    "Log Regr    0.9887453067634011\n",
    "ANN    0.9876454920896307\n",
    "SVM    0.9898359433552348\n",
    "\n",
    "\n",
    "Testing Data Accuracy\n",
    "Fisher    0.9865274209881284\n",
    "Perceptron    0.8241842593377184\n",
    "NB    0.9770691728195545\n",
    "Log Regr    0.988781944804216\n",
    "ANN    0.9875172145139001\n",
    "SVM    0.9897717806768132"
   ]
  },
  {
   "cell_type": "code",
   "execution_count": 11,
   "metadata": {},
   "outputs": [
    {
     "data": {
      "image/png": "[encoded data removed]",
      "text/plain": [
       "<Figure size 432x288 with 1 Axes>"
      ]
     },
     "metadata": {
      "needs_background": "light"
     },
     "output_type": "display_data"
    }
   ],
   "source": [
    "\n",
    "fig, ax = plt.subplots()\n",
    "ax.boxplot(data_train)\n",
    "ax.set_xticklabels(labels)\n",
    "plt.savefig('train.png')\n",
    "plt.show()\n",
    "# show plot"
   ]
  },
  {
   "cell_type": "code",
   "execution_count": 12,
   "metadata": {},
   "outputs": [
    {
     "data": {
      "image/png": "[encoded data removed]",
      "text/plain": [
       "<Figure size 432x288 with 1 Axes>"
      ]
     },
     "metadata": {
      "needs_background": "light"
     },
     "output_type": "display_data"
    }
   ],
   "source": [
    "fig, ax = plt.subplots()\n",
    "ax.boxplot(data_test)\n",
    "ax.set_xticklabels(labels)\n",
    "plt.savefig('test.png')\n",
    "plt.show()"
   ]
  },
  {
   "cell_type": "code",
   "execution_count": null,
   "metadata": {},
   "outputs": [],
   "source": []
  }
 ],
 "metadata": {
  "kernelspec": {
   "display_name": "Python 3",
   "language": "python",
   "name": "python3"
  },
  "language_info": {
   "codemirror_mode": {
    "name": "ipython",
    "version": 3
   },
   "file_extension": ".py",
   "mimetype": "text/x-python",
   "name": "python",
   "nbconvert_exporter": "python",
   "pygments_lexer": "ipython3",
   "version": "3.8.5"
  }
 },
 "nbformat": 4,
 "nbformat_minor": 2
}
